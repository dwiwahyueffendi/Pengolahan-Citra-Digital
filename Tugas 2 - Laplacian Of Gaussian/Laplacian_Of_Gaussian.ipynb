{
  "nbformat": 4,
  "nbformat_minor": 0,
  "metadata": {
    "colab": {
      "name": "Laplacian Of Gaussian.ipynb",
      "provenance": [],
      "collapsed_sections": []
    },
    "kernelspec": {
      "name": "python3",
      "display_name": "Python 3"
    },
    "language_info": {
      "name": "python"
    }
  },
  "cells": [
    {
      "cell_type": "code",
      "metadata": {
        "id": "MfYf1nR9C7PG"
      },
      "source": [
        "from google.colab import files\n",
        "file = files.upload()"
      ],
      "execution_count": null,
      "outputs": []
    },
    {
      "cell_type": "code",
      "metadata": {
        "id": "QqyhkSM8DxtM"
      },
      "source": [
        "# memanggil library opencv\n",
        "import cv2\n",
        "# memanggil fungsi google colab untuk perbaikan cv2.imshow\n",
        "from google.colab.patches import cv2_imshow\n",
        "from matplotlib import pyplot as plt\n",
        "import numpy as np\n",
        "\n",
        "# menyimpan gambar dengan fungsi imread dari OpenCV\n",
        "img = cv2.imread(\"daun1.jpeg\")"
      ],
      "execution_count": null,
      "outputs": []
    },
    {
      "cell_type": "code",
      "metadata": {
        "id": "m__yftZGLHdO"
      },
      "source": [
        "# Menerapkan Gaussian filtering gaussiaan\n",
        "blur = cv2.GaussianBlur(img,(5,5), cv2.BORDER_DEFAULT)\n",
        "print('GaussianBlur')\n",
        "cv2_imshow(blur)"
      ],
      "execution_count": null,
      "outputs": []
    },
    {
      "cell_type": "code",
      "metadata": {
        "id": "iiP2oE9Gm8PM"
      },
      "source": [
        "gray = cv2.cvtColor(blur, cv2.COLOR_BGR2GRAY)\n",
        "print('GreyScale')\n",
        "cv2_imshow(gray)"
      ],
      "execution_count": null,
      "outputs": []
    },
    {
      "cell_type": "code",
      "metadata": {
        "id": "WJOnzjjonGNg"
      },
      "source": [
        "# menerapkan algoritma high-pass filtering:\n",
        "# laplacian\n",
        "print('laplacian')\n",
        "laplacian = cv2.Laplacian(gray,cv2.CV_16S,ksize = 3)\n",
        "# converting back to uint8\n",
        "log = cv2.convertScaleAbs(laplacian)\n",
        "cv2_imshow(log)"
      ],
      "execution_count": null,
      "outputs": []
    },
    {
      "cell_type": "code",
      "metadata": {
        "id": "TvWFKNCUMLcH"
      },
      "source": [
        "img_array_grey = np.array(gray)\n",
        "print (\"Array Image Greyscale\")\n",
        "print(img_array_grey)\n",
        "img_array_laplaciaan = np.array(log)\n",
        "print (\"Array Image Log\")\n",
        "print(img_array_laplaciaan)"
      ],
      "execution_count": null,
      "outputs": []
    },
    {
      "cell_type": "code",
      "metadata": {
        "id": "VQBsKvZtYx-b"
      },
      "source": [
        "from sklearn.metrics import mean_squared_error\n",
        "mse = mean_squared_error(img_array_grey,img_array_laplaciaan)\n",
        "print(mse)"
      ],
      "execution_count": null,
      "outputs": []
    },
    {
      "cell_type": "code",
      "metadata": {
        "id": "z0EO66j3Nq50"
      },
      "source": [
        "def mse(img_array_grey, img_array_laplaciaan): \n",
        "    img_array_grey, img_array_laplaciaan = np.array(img_array_grey), np.array(img_array_laplaciaan)\n",
        "    return np.square(np.subtract(img_array_grey,img_array_laplaciaan)).mean() \n",
        "\n",
        "mse(img_array_grey, img_array_laplaciaan)"
      ],
      "execution_count": null,
      "outputs": []
    }
  ]
}